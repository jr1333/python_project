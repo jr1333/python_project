{
 "cells": [
  {
   "cell_type": "code",
   "execution_count": null,
   "metadata": {},
   "outputs": [],
   "source": [
    "#while"
   ]
  },
  {
   "cell_type": "code",
   "execution_count": 3,
   "metadata": {},
   "outputs": [
    {
     "name": "stdout",
     "output_type": "stream",
     "text": [
      "tell me some thing,i will repeat to you: 12\n"
     ]
    },
    {
     "data": {
      "text/plain": [
       "'12'"
      ]
     },
     "execution_count": 3,
     "metadata": {},
     "output_type": "execute_result"
    }
   ],
   "source": [
    "message=input(\"tell me some thing,i will repeat to you: \")\n",
    "message"
   ]
  },
  {
   "cell_type": "code",
   "execution_count": 4,
   "metadata": {},
   "outputs": [
    {
     "name": "stdout",
     "output_type": "stream",
     "text": [
      "please input your name: jj\n",
      "hello, jj!\n"
     ]
    }
   ],
   "source": [
    "name=input(\"please input your name: \")\n",
    "print(\"hello, \"+name+\"!\")"
   ]
  },
  {
   "cell_type": "code",
   "execution_count": 2,
   "metadata": {},
   "outputs": [
    {
     "name": "stdout",
     "output_type": "stream",
     "text": [
      "if you tell me who are you,we can repaet you see.\n",
      "what is your first name!13\n",
      "\n",
      "hello13!\n"
     ]
    }
   ],
   "source": [
    "prompt=\"if you tell me who are you,we can repaet you see.\"\n",
    "prompt+=\"\\nwhat is your first name!\"\n",
    "name=input(prompt)\n",
    "print(\"\\nhello\"+name+\"!\")"
   ]
  },
  {
   "cell_type": "code",
   "execution_count": 1,
   "metadata": {},
   "outputs": [
    {
     "name": "stdout",
     "output_type": "stream",
     "text": [
      "how old are you?19\n"
     ]
    },
    {
     "data": {
      "text/plain": [
       "True"
      ]
     },
     "execution_count": 1,
     "metadata": {},
     "output_type": "execute_result"
    }
   ],
   "source": [
    "age=input(\"how old are you?\")#str\n",
    "int(age)>=18"
   ]
  },
  {
   "cell_type": "code",
   "execution_count": 5,
   "metadata": {},
   "outputs": [
    {
     "name": "stdout",
     "output_type": "stream",
     "text": [
      "what kind of cars do you want to hire? ff\n",
      "\n",
      "let me see if you can find a subaru\n"
     ]
    }
   ],
   "source": [
    "#7-1\n",
    "car=input(\"what kind of cars do you want to hire? \")\n",
    "print(\"\\nlet me see if you can find a subaru\")"
   ]
  },
  {
   "cell_type": "code",
   "execution_count": 7,
   "metadata": {},
   "outputs": [
    {
     "name": "stdout",
     "output_type": "stream",
     "text": [
      "how many do you need? 7\n",
      "spare\n"
     ]
    }
   ],
   "source": [
    "#7-2\n",
    "num=input(\"how many do you need? \")\n",
    "if int(num)>8:\n",
    "    print(\"no space\")\n",
    "else:\n",
    "    print(\"spare\")"
   ]
  },
  {
   "cell_type": "code",
   "execution_count": 12,
   "metadata": {},
   "outputs": [
    {
     "name": "stdout",
     "output_type": "stream",
     "text": [
      "please input a num: 20\n",
      "yes\n"
     ]
    }
   ],
   "source": [
    "#7-3\n",
    "num=input(\"please input a num: \")\n",
    "if (int(num))%10==0:\n",
    "    print(\"yes\")\n",
    "else:\n",
    "    print(\"no\")\n"
   ]
  },
  {
   "cell_type": "code",
   "execution_count": 14,
   "metadata": {},
   "outputs": [
    {
     "name": "stdout",
     "output_type": "stream",
     "text": [
      "enter quit to end the game12\n",
      "12\n",
      "enter quit to end the gamequit\n"
     ]
    }
   ],
   "source": [
    "#while loop\n",
    "active=True\n",
    "while active:\n",
    "    message=input(\"enter quit to end the game \")\n",
    "    if message=='quit':\n",
    "        active=False\n",
    "    else:\n",
    "        print(message)"
   ]
  },
  {
   "cell_type": "code",
   "execution_count": 15,
   "metadata": {},
   "outputs": [
    {
     "name": "stdout",
     "output_type": "stream",
     "text": [
      "enter quit to end the game 12\n",
      "12\n",
      "enter quit to end the game 13\n",
      "13\n",
      "enter quit to end the game quit\n"
     ]
    }
   ],
   "source": [
    "#break\n",
    "active=True\n",
    "while active:\n",
    "    message=input(\"enter quit to end the game \")\n",
    "    if message=='quit':\n",
    "        break;\n",
    "        active=False\n",
    "    else:\n",
    "        print(message)"
   ]
  },
  {
   "cell_type": "code",
   "execution_count": 17,
   "metadata": {},
   "outputs": [
    {
     "name": "stdout",
     "output_type": "stream",
     "text": [
      "2\n",
      "4\n",
      "6\n",
      "8\n",
      "10\n"
     ]
    }
   ],
   "source": [
    "#continue\n",
    "number=0\n",
    "while number<10:\n",
    "    number+=1\n",
    "    if number%2!=0:\n",
    "        continue\n",
    "    print(number)"
   ]
  },
  {
   "cell_type": "code",
   "execution_count": 21,
   "metadata": {},
   "outputs": [
    {
     "name": "stdout",
     "output_type": "stream",
     "text": [
      "1\n",
      "we will add 1\n",
      "1\n",
      "we will add 1\n",
      "2\n",
      "we will add 2\n",
      "3\n",
      "we will add 3\n",
      "4\n",
      "we will add 4\n",
      "4\n",
      "we will add 4\n",
      "5\n",
      "we will add 5\n",
      "quit\n"
     ]
    }
   ],
   "source": [
    "#7-4\n",
    "add=''\n",
    "while add!=\"quit\":\n",
    "    add=input()\n",
    "    if add!='quit':\n",
    "        print(\"we will add \"+add)\n",
    "    else:\n",
    "        break\n",
    "    "
   ]
  },
  {
   "cell_type": "code",
   "execution_count": 2,
   "metadata": {},
   "outputs": [
    {
     "name": "stdout",
     "output_type": "stream",
     "text": [
      "12\n",
      "pay 10\n",
      "2\n",
      "pay free\n",
      "13\n",
      "pay 15\n"
     ]
    }
   ],
   "source": [
    "#7-5\n",
    "message=True\n",
    "while message:\n",
    "    age=input()\n",
    "    if int(age)<3:\n",
    "        print(\"pay free\")\n",
    "    elif int(age)<=12:\n",
    "        print(\"pay 10\")\n",
    "    elif int(age)>12:\n",
    "        print(\"pay 15\")\n",
    "        message=False"
   ]
  },
  {
   "cell_type": "code",
   "execution_count": 4,
   "metadata": {},
   "outputs": [
    {
     "name": "stdout",
     "output_type": "stream",
     "text": [
      "4\n",
      "3\n",
      "2\n",
      "1\n",
      "[5, 6, 7, 8, 4, 3, 2, 1]\n"
     ]
    }
   ],
   "source": [
    "#list \n",
    "un=[1,2,3,4]\n",
    "con=[5,6,7,8]\n",
    "while un:\n",
    "    cu=un.pop()\n",
    "    print(cu)\n",
    "    con.append(cu)\n",
    "print(con)"
   ]
  },
  {
   "cell_type": "code",
   "execution_count": 5,
   "metadata": {},
   "outputs": [
    {
     "name": "stdout",
     "output_type": "stream",
     "text": [
      "[1, 1, 1, 1, 3, 4, 5, 6]\n",
      "[3, 4, 5, 6]\n"
     ]
    }
   ],
   "source": [
    "#remove()\n",
    "pets=[1,1,1,1,3,4,5,6]\n",
    "print(pets)\n",
    "while 1 in pets:\n",
    "    pets.remove(1)\n",
    "print(pets)"
   ]
  },
  {
   "cell_type": "code",
   "execution_count": 9,
   "metadata": {},
   "outputs": [
    {
     "name": "stdout",
     "output_type": "stream",
     "text": [
      "what is your name: 12\n",
      "which mountain: 3\n",
      "others no\n",
      "result: \n",
      "\n",
      "12 would you like to climb 3.\n"
     ]
    }
   ],
   "source": [
    "#zidian\n",
    "res={}\n",
    "active=True\n",
    "while active:\n",
    "    name=input(\"what is your name: \")\n",
    "    response=input(\"which mountain: \")\n",
    "    res[name]=response\n",
    "    repeat=input(\"others \")\n",
    "    if repeat=='no':\n",
    "        active=False\n",
    "print(\"result: \")\n",
    "for name,response in res.items():\n",
    "    print(\"\\n\"+ name+\" would you like to climb \"+response+\".\")\n",
    "\n",
    "    "
   ]
  },
  {
   "cell_type": "code",
   "execution_count": 12,
   "metadata": {},
   "outputs": [
    {
     "name": "stdout",
     "output_type": "stream",
     "text": [
      "1\n",
      "2\n",
      "3\n"
     ]
    },
    {
     "data": {
      "text/plain": [
       "[1, 2, 3]"
      ]
     },
     "execution_count": 12,
     "metadata": {},
     "output_type": "execute_result"
    }
   ],
   "source": [
    "#7-8\n",
    "sandwhich=[1,2,3]\n",
    "finish=[]\n",
    "for sand in sandwhich:\n",
    "    #cur=sandwhich.pop()\n",
    "    finish.append(sand)\n",
    "    print(sand)\n",
    "finish\n"
   ]
  },
  {
   "cell_type": "code",
   "execution_count": 13,
   "metadata": {},
   "outputs": [
    {
     "name": "stdout",
     "output_type": "stream",
     "text": [
      "1 is null\n",
      "4\n",
      "5\n",
      "6\n",
      "7\n"
     ]
    },
    {
     "data": {
      "text/plain": [
       "[4, 5, 6, 7]"
      ]
     },
     "execution_count": 13,
     "metadata": {},
     "output_type": "execute_result"
    }
   ],
   "source": [
    "#7-9\n",
    "sandwhich=[1,1,1,1,1,4,5,6,7]\n",
    "finish=[]\n",
    "print('1 is null')\n",
    "while 1 in sandwhich:\n",
    "    sandwhich.remove(1)\n",
    "for sand in sandwhich:\n",
    "    #cur=sandwhich.pop()\n",
    "    finish.append(sand)\n",
    "    print(sand)\n",
    "finish"
   ]
  },
  {
   "cell_type": "code",
   "execution_count": 14,
   "metadata": {},
   "outputs": [
    {
     "name": "stdout",
     "output_type": "stream",
     "text": [
      "if you want to go there 12\n",
      "if you want to go there 12\n",
      "if you want to go there 12\n",
      "if you want to go there \n"
     ]
    }
   ],
   "source": [
    "#7-10\n",
    "ans=1\n",
    "while ans:\n",
    "    ans=input(\"if you want to go there \")\n",
    "    ans\n",
    "    "
   ]
  },
  {
   "cell_type": "code",
   "execution_count": 16,
   "metadata": {},
   "outputs": [
    {
     "name": "stdout",
     "output_type": "stream",
     "text": [
      "hello\n"
     ]
    }
   ],
   "source": [
    "#def hanshu\n",
    "def greet_user():\n",
    "    '''xianshi wenhou'''\n",
    "    print(\"hello\")\n",
    "greet_user()"
   ]
  },
  {
   "cell_type": "code",
   "execution_count": 18,
   "metadata": {},
   "outputs": [
    {
     "name": "stdout",
     "output_type": "stream",
     "text": [
      "hello Li\n"
     ]
    }
   ],
   "source": [
    "def greet(name):\n",
    "    print(\"hello\"+\" \"+name.title())\n",
    "greet('li')"
   ]
  },
  {
   "cell_type": "code",
   "execution_count": 19,
   "metadata": {},
   "outputs": [
    {
     "name": "stdout",
     "output_type": "stream",
     "text": [
      "learn thing\n"
     ]
    }
   ],
   "source": [
    "#8-1:\n",
    "def display():\n",
    "    '''learning'''\n",
    "    print(\"learn thing\")\n",
    "display()"
   ]
  },
  {
   "cell_type": "code",
   "execution_count": 22,
   "metadata": {},
   "outputs": [
    {
     "name": "stdout",
     "output_type": "stream",
     "text": [
      "one of my fav is cc\n"
     ]
    }
   ],
   "source": [
    "#8-2\n",
    "def fav(title):\n",
    "    print(\"one of my fav is \"+title)\n",
    "fav('cc')"
   ]
  },
  {
   "cell_type": "code",
   "execution_count": 27,
   "metadata": {},
   "outputs": [
    {
     "name": "stdout",
     "output_type": "stream",
     "text": [
      "hh\n",
      "Ss\n",
      "\n",
      "hs\n",
      "Sd\n",
      "\n"
     ]
    }
   ],
   "source": [
    "#weizhi shican\n",
    "def des(type,name):\n",
    "    print(type)\n",
    "    print(name.title()+'\\n')\n",
    "des('hh','ss')\n",
    "des('hs','sd')"
   ]
  },
  {
   "cell_type": "code",
   "execution_count": 28,
   "metadata": {},
   "outputs": [
    {
     "name": "stdout",
     "output_type": "stream",
     "text": [
      "dd\n",
      "Ss\n",
      "\n"
     ]
    }
   ],
   "source": [
    "#key word shican\n",
    "des(name='ss',type='dd')"
   ]
  },
  {
   "cell_type": "code",
   "execution_count": 37,
   "metadata": {},
   "outputs": [
    {
     "name": "stdout",
     "output_type": "stream",
     "text": [
      "s\n",
      "h\n",
      "\n"
     ]
    }
   ],
   "source": [
    "#default after undefault key before weizhi\n",
    "def des(name,type='dog'):\n",
    "    print(type)\n",
    "    print(name+'\\n')\n",
    "des('h','s')"
   ]
  },
  {
   "cell_type": "code",
   "execution_count": 41,
   "metadata": {},
   "outputs": [
    {
     "data": {
      "text/plain": [
       "'jim simit'"
      ]
     },
     "execution_count": 41,
     "metadata": {},
     "output_type": "execute_result"
    }
   ],
   "source": [
    "#8-3\n",
    "def name(fi,la):\n",
    "    full=fi+' '+la\n",
    "    return full\n",
    "name('jim','simit')"
   ]
  },
  {
   "cell_type": "code",
   "execution_count": 45,
   "metadata": {},
   "outputs": [
    {
     "data": {
      "text/plain": [
       "'132'"
      ]
     },
     "execution_count": 45,
     "metadata": {},
     "output_type": "execute_result"
    }
   ],
   "source": [
    "#chose shican\n",
    "def name(fi,la,mid=''):\n",
    "    if mid:\n",
    "        full=fi+mid+la\n",
    "    else:\n",
    "        full=fi+la\n",
    "    return full\n",
    "name('1','2','3')\n",
    "#name('1','2')"
   ]
  },
  {
   "cell_type": "code",
   "execution_count": 47,
   "metadata": {},
   "outputs": [
    {
     "data": {
      "text/plain": [
       "{'first': 'sm', 'last': 'mt'}"
      ]
     },
     "execution_count": 47,
     "metadata": {},
     "output_type": "execute_result"
    }
   ],
   "source": [
    "#fanhui zidian\n",
    "def person(fi,la):\n",
    "    person={'first':fi,'last':la}\n",
    "    return person\n",
    "person('sm','mt')"
   ]
  },
  {
   "cell_type": "code",
   "execution_count": 50,
   "metadata": {},
   "outputs": [
    {
     "data": {
      "text/plain": [
       "{'first': 'sm', 'last': 'mt', 'mid': 'ss'}"
      ]
     },
     "execution_count": 50,
     "metadata": {},
     "output_type": "execute_result"
    }
   ],
   "source": [
    "def person(fi,la,mid=''):\n",
    "    person={'first':fi,'last':la}\n",
    "    if mid:\n",
    "        person['mid']=mid\n",
    "    return person\n",
    "person('sm','mt','ss')"
   ]
  },
  {
   "cell_type": "code",
   "execution_count": 53,
   "metadata": {},
   "outputs": [
    {
     "name": "stdout",
     "output_type": "stream",
     "text": [
      "\n",
      "Please tell me your name:\n",
      "enter q to quit\n",
      "fis name is12\n",
      "last name is123\n",
      "12 123\n",
      "\n",
      "Please tell me your name:\n",
      "enter q to quit\n",
      "fis name isq\n"
     ]
    }
   ],
   "source": [
    "#while:\n",
    "def name(fi,la):\n",
    "    full=fi+' '+la\n",
    "    return full\n",
    "while True:\n",
    "    print('\\nPlease tell me your name:')\n",
    "    print('enter q to quit')\n",
    "    f_name=input(\"fis name is\")\n",
    "    if f_name=='q':\n",
    "        break\n",
    "    l_name=input(\"last name is\")\n",
    "    fu_name=name(f_name,l_name)\n",
    "    print(fu_name)\n",
    "    "
   ]
  },
  {
   "cell_type": "code",
   "execution_count": 56,
   "metadata": {},
   "outputs": [
    {
     "name": "stdout",
     "output_type": "stream",
     "text": [
      "1\n",
      "2\n",
      "3\n",
      "4\n"
     ]
    }
   ],
   "source": [
    "#transfer list\n",
    "name=['1','2','3','4']\n",
    "def greet(name):\n",
    "    for na in name:\n",
    "        print(na)\n",
    "    \n",
    "greet(name)"
   ]
  },
  {
   "cell_type": "code",
   "execution_count": 57,
   "metadata": {},
   "outputs": [
    {
     "name": "stdout",
     "output_type": "stream",
     "text": [
      "5\n",
      "4\n",
      "3\n",
      "2\n",
      "1\n",
      "5\n",
      "4\n",
      "3\n",
      "2\n",
      "1\n"
     ]
    }
   ],
   "source": [
    "def print_model(un,co):\n",
    "    while un:\n",
    "        cu=un.pop()\n",
    "        print(cu)\n",
    "        co.append(cu)\n",
    "def show(co):\n",
    "    for com in co:\n",
    "        print(com)\n",
    "un=[1,2,3,4,5]\n",
    "co=[]\n",
    "print_model(un,co)\n",
    "show(co)"
   ]
  },
  {
   "cell_type": "code",
   "execution_count": 61,
   "metadata": {},
   "outputs": [
    {
     "name": "stdout",
     "output_type": "stream",
     "text": [
      "5\n",
      "4\n",
      "3\n",
      "2\n",
      "1\n",
      "1\n",
      "2\n",
      "3\n",
      "4\n",
      "5\n"
     ]
    }
   ],
   "source": [
    "#slice fuben \n",
    "def print_model(un,co):\n",
    "    while un:\n",
    "        cu=un.pop()\n",
    "        print(cu)\n",
    "        co.append(cu)\n",
    "def show(co):\n",
    "    for com in co:\n",
    "        print(com)\n",
    "un=[1,2,3,4,5]\n",
    "co=[]\n",
    "print_model(un[:],co)\n",
    "show(un)\n",
    "    "
   ]
  },
  {
   "cell_type": "code",
   "execution_count": 66,
   "metadata": {},
   "outputs": [
    {
     "name": "stdout",
     "output_type": "stream",
     "text": [
      "s\n",
      "d\n",
      "h\n",
      "k\n",
      "l\n"
     ]
    }
   ],
   "source": [
    "#8-9-11\n",
    "mig=['s','d','h','k','l']\n",
    "def show(mig):\n",
    "    for mi in mig:\n",
    "        print(mi)\n",
    "\n",
    "def make(mig):\n",
    "    i=0\n",
    "    while i<len(mig):\n",
    "        mig[i]+=' the'\n",
    "        i+=1\n",
    "make(mig[:])\n",
    "show(mig)"
   ]
  },
  {
   "cell_type": "code",
   "execution_count": 69,
   "metadata": {},
   "outputs": [
    {
     "name": "stdout",
     "output_type": "stream",
     "text": [
      "\n",
      "Making a 16-inch pizza with following toppings:\n",
      "- pepperoni\n",
      "\n",
      "Making a 12-inch pizza with following toppings:\n",
      "- mushrooms\n",
      "- green pepper\n",
      "- extra cheese\n"
     ]
    }
   ],
   "source": [
    "#palce \n",
    "# and every in the final\n",
    "def make(size,*topping):\n",
    "    print(\"\\nMaking a \"+str(size)+\n",
    "         \"-inch pizza with following toppings:\")\n",
    "    for top in topping:\n",
    "        print(\"- \"+top)\n",
    "make(16,'pepperoni')\n",
    "make(12,'mushrooms','green pepper','extra cheese')\n"
   ]
  },
  {
   "cell_type": "code",
   "execution_count": 73,
   "metadata": {},
   "outputs": [
    {
     "name": "stdout",
     "output_type": "stream",
     "text": [
      "{'first_name': 'al', 'last_name': 'ein', 'local': 'pri'}\n"
     ]
    }
   ],
   "source": [
    "#key and every\n",
    "def build(first,last,**user_info):\n",
    "    profile={}\n",
    "    profile['first_name']=first\n",
    "    profile['last_name']=last\n",
    "    for key,values in user_info.items():\n",
    "        profile[key]=values\n",
    "    return profile\n",
    "user_profile=build('al','ein',local='pri')#***\n",
    "print(user_profile)"
   ]
  },
  {
   "cell_type": "code",
   "execution_count": 75,
   "metadata": {},
   "outputs": [
    {
     "name": "stdout",
     "output_type": "stream",
     "text": [
      "add 1\n",
      "add 2\n",
      "add 3\n",
      "\n",
      "\n",
      "add 1\n",
      "add 2\n"
     ]
    }
   ],
   "source": [
    "#8-12\n",
    "def pizza(*material):\n",
    "    for mat in material:\n",
    "        print(\"add \"+mat)\n",
    "pizza('1','2','3')\n",
    "print(\"\\n\")\n",
    "pizza('1','2')"
   ]
  },
  {
   "cell_type": "code",
   "execution_count": 77,
   "metadata": {},
   "outputs": [
    {
     "data": {
      "text/plain": [
       "{'con': 'sub', 'ty': 'out', 'color': 'blue', 'two': True}"
      ]
     },
     "execution_count": 77,
     "metadata": {},
     "output_type": "execute_result"
    }
   ],
   "source": [
    "#8-14\n",
    "def cars(contribute,types,**dicts):\n",
    "    profile={}\n",
    "    profile['con']=contribute\n",
    "    profile['ty']=types\n",
    "    for key,values in dicts.items():\n",
    "        profile[key]=values\n",
    "    return profile\n",
    "car=cars('sub','out',color='blue',two=True)\n",
    "car"
   ]
  },
  {
   "cell_type": "code",
   "execution_count": 78,
   "metadata": {},
   "outputs": [],
   "source": [
    "#module--import module(is a kind of .py) diaoyong:module.hanshu()\n",
    "#or from module import hanshu()  hanshu()\n",
    "#as bieming from ... import ... as ...\n",
    "#as import ..as ..\n",
    "#from .. import *  zhijiediaoyong  hanshu()\n",
    "\n",
    "\n",
    "\n",
    "\n",
    "\n"
   ]
  },
  {
   "cell_type": "code",
   "execution_count": 88,
   "metadata": {},
   "outputs": [
    {
     "name": "stdout",
     "output_type": "stream",
     "text": [
      "willie\n",
      "willie is rolling\n"
     ]
    }
   ],
   "source": [
    "#lei\n",
    "class Dog():\n",
    "    def __init__(self,name,age):#*** liangbian ge lianggehengxian\n",
    "        self.name=name\n",
    "        self.age=age\n",
    "    def sit(self):\n",
    "        print(self.name+\" is sitting.\")\n",
    "    def roll_over(self):\n",
    "        print(self.name+\" is rolling\")\n",
    "\n",
    "        \n",
    "my_dog=Dog('willie', 6)\n",
    "print(my_dog.name)\n",
    "my_dog.roll_over()"
   ]
  },
  {
   "cell_type": "code",
   "execution_count": 92,
   "metadata": {},
   "outputs": [
    {
     "name": "stdout",
     "output_type": "stream",
     "text": [
      "ss\n",
      "ss\n",
      "22\n",
      "open\n"
     ]
    }
   ],
   "source": [
    "#9-1\n",
    "class Rest():\n",
    "    def __init__(self,name,types):\n",
    "        self.name=name\n",
    "        self.types=types\n",
    "    def des(self):\n",
    "        print(self.name)\n",
    "        print(self.types)\n",
    "    def open(self):\n",
    "        print(\"open\")\n",
    "rest1=Rest('ss','22')\n",
    "print(rest1.name)\n",
    "rest1.des()\n",
    "rest1.open()\n",
    "\n"
   ]
  },
  {
   "cell_type": "code",
   "execution_count": 108,
   "metadata": {},
   "outputs": [
    {
     "name": "stdout",
     "output_type": "stream",
     "text": [
      "1\n",
      "2\n",
      "('3', '4')\n",
      "hello 1\n"
     ]
    }
   ],
   "source": [
    "class User():\n",
    "    def __init__(self,fi,la,*infor):#tuple *\n",
    "        self.fi=fi\n",
    "        self.la=la\n",
    "        self.infor=infor\n",
    "    def des(self):\n",
    "        print(self.fi)\n",
    "        print(self.la)\n",
    "        print(self.infor)\n",
    "    def greet(self):\n",
    "        print(\"hello \"+self.fi)\n",
    "user1=User('1','2','3','4')\n",
    "user1.des()  \n",
    "user1.greet()"
   ]
  },
  {
   "cell_type": "code",
   "execution_count": 3,
   "metadata": {},
   "outputs": [
    {
     "name": "stdout",
     "output_type": "stream",
     "text": [
      "2016 mnw s\n"
     ]
    }
   ],
   "source": [
    "#jicheng\n",
    "class Car():\n",
    "    '''simulate car'''\n",
    "    def __init__(self,make,model,year):\n",
    "        self.make=make\n",
    "        self.model=model\n",
    "        self.year=year\n",
    "        self.read=0\n",
    "    def get_name(self):\n",
    "        long_name=str(self.year)+' '+self.make+' '+self.model\n",
    "        return long_name\n",
    "    def read_meter(self):\n",
    "        print(str(self.read))\n",
    "    def upadte(self,mileage):\n",
    "        if milege >= self.read:\n",
    "            self.read=mileage\n",
    "        else:\n",
    "            print(\"you can't roll back\")\n",
    "    def incre(self,miles):\n",
    "        self.read+=miles\n",
    "class Ecar(Car):\n",
    "    def __init__(self,make,model,year):\n",
    "        super().__init__(make,model,year)\n",
    "my=Ecar('mnw','s',2016)\n",
    "print(my.get_name())"
   ]
  },
  {
   "cell_type": "code",
   "execution_count": 9,
   "metadata": {},
   "outputs": [
    {
     "name": "stdout",
     "output_type": "stream",
     "text": [
      "2016 mnw s\n",
      "70\n"
     ]
    }
   ],
   "source": [
    "class Car():\n",
    "    '''simulate car'''\n",
    "    def __init__(self,make,model,year):\n",
    "        self.make=make\n",
    "        self.model=model\n",
    "        self.year=year\n",
    "        self.read=0\n",
    "    def get_name(self):\n",
    "        long_name=str(self.year)+' '+self.make+' '+self.model\n",
    "        return long_name\n",
    "    def read_meter(self):\n",
    "        print(str(self.read))\n",
    "    def upadte(self,mileage):\n",
    "        if milege >= self.read:\n",
    "            self.read=mileage\n",
    "        else:\n",
    "            print(\"you can't roll back\")\n",
    "    def incre(self,miles):\n",
    "        self.read+=miles\n",
    "class Ecar(Car):\n",
    "    def __init__(self,make,model,year):\n",
    "        super().__init__(make,model,year)\n",
    "        self.battery_size=70\n",
    "    def describe(self):\n",
    "        print(str(self.battery_size))\n",
    "my=Ecar('mnw','s',2016)\n",
    "print(my.get_name())\n",
    "my.describe()"
   ]
  },
  {
   "cell_type": "code",
   "execution_count": 21,
   "metadata": {},
   "outputs": [
    {
     "name": "stdout",
     "output_type": "stream",
     "text": [
      "this car is 70\n",
      "this car can go 240\n"
     ]
    }
   ],
   "source": [
    "#chongxie\n",
    "class Car():\n",
    "    '''simulate car'''\n",
    "    def __init__(self,make,model,year):\n",
    "        self.make=make\n",
    "        self.model=model\n",
    "        self.year=year\n",
    "        self.read=0\n",
    "    def get_name(self):\n",
    "        long_name=str(self.year)+' '+self.make+' '+self.model\n",
    "        return long_name\n",
    "    def read_meter(self):\n",
    "        print(str(self.read))\n",
    "    def upadte(self,mileage):\n",
    "        if milege >= self.read:\n",
    "            self.read=mileage\n",
    "        else:\n",
    "            print(\"you can't roll back\")\n",
    "    def incre(self,miles):\n",
    "        self.read+=miles\n",
    "    def fill_gas_tanks(self):\n",
    "        print(\"tank is full\")\n",
    "class Battery():\n",
    "    def __init__(self,battery_size=70):\n",
    "        self.battery_size=battery_size\n",
    "    def describe_battery(self):\n",
    "        print(\"this car is \"+str(self.battery_size))\n",
    "    def get_range(self):\n",
    "        if self.battery_size==70:\n",
    "            range=240\n",
    "        elif self.battery_size==85:\n",
    "            range=270\n",
    "        message=\"this car can go \"+str(range)\n",
    "        print(message)\n",
    "class Ecar(Car):\n",
    "    def __init__(self,make,model,year):\n",
    "        super().__init__(make,model,year)\n",
    "        self.battery=Battery()\n",
    "    def describe(self):\n",
    "        print(str(self.battery_size))\n",
    "    def fill_gas_tank(self):\n",
    "        print(\"this car don't need a tank\")\n",
    "my=Ecar('mnw','s',2016)\n",
    "#print(my.get_name())\n",
    "#my.describe()\n",
    "my.battery.describe_battery()\n",
    "my.battery.get_range()"
   ]
  },
  {
   "cell_type": "code",
   "execution_count": 24,
   "metadata": {},
   "outputs": [
    {
     "name": "stdout",
     "output_type": "stream",
     "text": [
      "d\n",
      "s\n",
      "r\n",
      "k\n",
      "ss\n",
      "dd\n"
     ]
    }
   ],
   "source": [
    "#9-6\n",
    "class Rest():\n",
    "    def __init__(self,name,types):\n",
    "        self.name=name\n",
    "        self.types=types\n",
    "    def des(self):\n",
    "        print(self.name)\n",
    "        print(self.types)\n",
    "    def open(self):\n",
    "        print(\"open\")\n",
    "class Ice(Rest):\n",
    "    def __init__(self,name,types,*falvors):\n",
    "        super().__init__(name,types)\n",
    "        self.falvors=falvors\n",
    "    def show(self):\n",
    "        for falvor in self.falvors:\n",
    "            print(falvor)\n",
    "my=Ice('ss','dd','d','s','r','k')\n",
    "my.show()\n",
    "my.des()"
   ]
  },
  {
   "cell_type": "code",
   "execution_count": 26,
   "metadata": {},
   "outputs": [
    {
     "name": "stdout",
     "output_type": "stream",
     "text": [
      "addd\n",
      "delete\n",
      "ban\n"
     ]
    }
   ],
   "source": [
    "#9-7\n",
    "class User():\n",
    "    def __init__(self,fi,la,*infor):#tuple *\n",
    "        self.fi=fi\n",
    "        self.la=la\n",
    "        self.infor=infor\n",
    "    def des(self):\n",
    "        print(self.fi)\n",
    "        print(self.la)\n",
    "        print(self.infor)\n",
    "    def greet(self):\n",
    "        print(\"hello \"+self.fi)\n",
    "class Admin(User):\n",
    "    def __init__(self,fi,la,*infor):\n",
    "        super().__init__(fi,la,*infor)\n",
    "        self.privilege=[\"addd\",'delete','ban']\n",
    "    def show(self):\n",
    "        for pri in self.privilege:\n",
    "            print(pri)\n",
    "adm=Admin('2','3','4','333','333')\n",
    "adm.show() "
   ]
  },
  {
   "cell_type": "code",
   "execution_count": 28,
   "metadata": {},
   "outputs": [
    {
     "name": "stdout",
     "output_type": "stream",
     "text": [
      "addd\n",
      "delete\n",
      "ban\n"
     ]
    }
   ],
   "source": [
    "#9-8\n",
    "class Privileges():\n",
    "    def __init__(self):\n",
    "        self.privileges=[\"addd\",'delete','ban']\n",
    "    def show(self):\n",
    "        for privilege in self.privileges:\n",
    "            print(privilege)\n",
    "class Admin():\n",
    "    def __init__(self):\n",
    "        self.privilege=Privileges()\n",
    "admin_1=Admin()\n",
    "admin_1.privilege.show()"
   ]
  },
  {
   "cell_type": "code",
   "execution_count": 30,
   "metadata": {},
   "outputs": [
    {
     "name": "stdout",
     "output_type": "stream",
     "text": [
      "this car can go 240\n",
      "this car can go 270\n"
     ]
    }
   ],
   "source": [
    "#9-9\n",
    "class Car():\n",
    "    '''simulate car'''\n",
    "    def __init__(self,make,model,year):\n",
    "        self.make=make\n",
    "        self.model=model\n",
    "        self.year=year\n",
    "        self.read=0\n",
    "    def get_name(self):\n",
    "        long_name=str(self.year)+' '+self.make+' '+self.model\n",
    "        return long_name\n",
    "    def read_meter(self):\n",
    "        print(str(self.read))\n",
    "    def upadte(self,mileage):\n",
    "        if milege >= self.read:\n",
    "            self.read=mileage\n",
    "        else:\n",
    "            print(\"you can't roll back\")\n",
    "    def incre(self,miles):\n",
    "        self.read+=miles\n",
    "    def fill_gas_tanks(self):\n",
    "        print(\"tank is full\")\n",
    "class Battery():\n",
    "    def __init__(self,battery_size=70):\n",
    "        self.battery_size=battery_size\n",
    "    def describe_battery(self):\n",
    "        print(\"this car is \"+str(self.battery_size))\n",
    "    def get_range(self):\n",
    "        if self.battery_size==70:\n",
    "            range=240\n",
    "        elif self.battery_size==85:\n",
    "            range=270\n",
    "        message=\"this car can go \"+str(range)\n",
    "        print(message)\n",
    "    def upgrade_battery(self):\n",
    "        if self.battery_size!=85:\n",
    "            self.battery_size=85\n",
    "        \n",
    "class Ecar(Car):\n",
    "    def __init__(self,make,model,year):\n",
    "        super().__init__(make,model,year)\n",
    "        self.battery=Battery()\n",
    "    def describe(self):\n",
    "        print(str(self.battery_size))\n",
    "    def fill_gas_tank(self):\n",
    "        print(\"this car don't need a tank\")\n",
    "car_1=Ecar('1','2','3')\n",
    "car_1.battery.get_range()\n",
    "car_1.battery.upgrade_battery()\n",
    "car_1.battery.get_range()"
   ]
  },
  {
   "cell_type": "code",
   "execution_count": 32,
   "metadata": {},
   "outputs": [
    {
     "name": "stdout",
     "output_type": "stream",
     "text": [
      "1 r.\n",
      "2 c.\n",
      "3 go.\n"
     ]
    }
   ],
   "source": [
    "#daorulei\n",
    "#from xx(.py )import ..(lei)\n",
    "#import car or from car import *\n",
    "#youxu zidian\n",
    "from collections import OrderedDict\n",
    "fl=OrderedDict()\n",
    "fl['1']='r'\n",
    "fl['2']='c'\n",
    "fl['3']='go'\n",
    "for name,language in fl.items():\n",
    "    print(name+\" \"+language+\".\")\n"
   ]
  },
  {
   "cell_type": "code",
   "execution_count": 33,
   "metadata": {},
   "outputs": [
    {
     "data": {
      "text/plain": [
       "5"
      ]
     },
     "execution_count": 33,
     "metadata": {},
     "output_type": "execute_result"
    }
   ],
   "source": [
    "from random import randint\n",
    "x=randint(1,6)\n",
    "x"
   ]
  },
  {
   "cell_type": "code",
   "execution_count": 51,
   "metadata": {},
   "outputs": [
    {
     "name": "stdout",
     "output_type": "stream",
     "text": [
      "12\n"
     ]
    }
   ],
   "source": [
    "class Die():\n",
    "    def __init__(self,sides=6):\n",
    "        self.sides=sides\n",
    "    def roll_die(self):\n",
    "        print(randint(1,self.sides))\n",
    "die_1=Die(20)\n",
    "die_1.roll_die()"
   ]
  },
  {
   "cell_type": "code",
   "execution_count": 62,
   "metadata": {},
   "outputs": [
    {
     "name": "stdout",
     "output_type": "stream",
     "text": [
      "3.1415926353\n",
      "3.8979323846\n",
      "3.2643383279\n"
     ]
    }
   ],
   "source": [
    "with open('12\\\\12.txt') as file_object:\n",
    "    contents=file_object.read()\n",
    "    print(contents.rstrip())#delete empty in the tail"
   ]
  },
  {
   "cell_type": "code",
   "execution_count": 61,
   "metadata": {},
   "outputs": [
    {
     "name": "stdout",
     "output_type": "stream",
     "text": [
      "3.1415926353\n",
      "3.8979323846\n",
      "3.2643383279\n"
     ]
    }
   ],
   "source": [
    "with open('E:\\\\yasi\\\\article\\\\12.txt') as file_object:\n",
    "    contents=file_object.read()\n",
    "    print(contents.rstrip())#delete empty in the tail"
   ]
  },
  {
   "cell_type": "code",
   "execution_count": 67,
   "metadata": {},
   "outputs": [
    {
     "name": "stdout",
     "output_type": "stream",
     "text": [
      "3.1415926353\n",
      "\n",
      "3.8979323846\n",
      "\n",
      "3.2643383279\n"
     ]
    }
   ],
   "source": [
    "#meici yihang\n",
    "filename='12\\\\12.txt'\n",
    "with open(filename) as file_object:\n",
    "    for line in file_object:\n",
    "        print(line)\n",
    "        \n",
    "        #print(line.rstrip())"
   ]
  },
  {
   "cell_type": "code",
   "execution_count": 68,
   "metadata": {},
   "outputs": [
    {
     "name": "stdout",
     "output_type": "stream",
     "text": [
      "3.1415926353\n",
      "3.8979323846\n",
      "3.2643383279\n"
     ]
    }
   ],
   "source": [
    "filename='12\\\\12.txt'\n",
    "with open(filename) as file_object:\n",
    "    lines=file_object.readlines()\n",
    "for line in lines:\n",
    "    print(line.rstrip())"
   ]
  },
  {
   "cell_type": "code",
   "execution_count": 74,
   "metadata": {},
   "outputs": [
    {
     "name": "stdout",
     "output_type": "stream",
     "text": [
      "3.14159263538979323846643383279\n",
      "31\n"
     ]
    }
   ],
   "source": [
    "#pi.py\n",
    "filename='12\\\\12.txt'\n",
    "with open(filename) as file_object:\n",
    "    lines=file_object.readlines()\n",
    "pi_string=''\n",
    "for line in lines:\n",
    "    pi_string+=line.strip()\n",
    "print(pi_string)\n",
    "print(len(pi_string))"
   ]
  },
  {
   "cell_type": "code",
   "execution_count": 82,
   "metadata": {},
   "outputs": [
    {
     "name": "stdout",
     "output_type": "stream",
     "text": [
      "no\n"
     ]
    }
   ],
   "source": [
    "#zifuchuan yanzheng\n",
    "string='12434'\n",
    "type(string)\n",
    "string+='3434'\n",
    "if '123' in string:\n",
    "    print(\"yes\")\n",
    "else:\n",
    "    print(\"no\")"
   ]
  },
  {
   "cell_type": "code",
   "execution_count": 88,
   "metadata": {},
   "outputs": [
    {
     "name": "stdout",
     "output_type": "stream",
     "text": [
      "in python you can read easily.\n",
      "in python you can feel simple.\n",
      "in python you can do anything.\n"
     ]
    }
   ],
   "source": [
    "#10-1\n",
    "filename='12\\\\13.txt'\n",
    "with open(filename) as file_object:\n",
    "    contents=file_object.read()\n",
    "    print(contents)"
   ]
  },
  {
   "cell_type": "code",
   "execution_count": 91,
   "metadata": {},
   "outputs": [],
   "source": [
    "#"
   ]
  },
  {
   "cell_type": "code",
   "execution_count": 89,
   "metadata": {},
   "outputs": [
    {
     "name": "stdout",
     "output_type": "stream",
     "text": [
      "in python you can read easily.\n",
      "\n",
      "in python you can feel simple.\n",
      "\n",
      "in python you can do anything.\n"
     ]
    }
   ],
   "source": [
    "filename='12\\\\13.txt'\n",
    "with open(filename) as file_object:\n",
    "    for line in file_object:\n",
    "        print(line)"
   ]
  },
  {
   "cell_type": "code",
   "execution_count": 90,
   "metadata": {},
   "outputs": [
    {
     "name": "stdout",
     "output_type": "stream",
     "text": [
      "in python you can read easily.\n",
      "\n",
      "in python you can feel simple.\n",
      "\n",
      "in python you can do anything.\n"
     ]
    }
   ],
   "source": [
    "filename='12\\\\13.txt'\n",
    "with open(filename) as file_object:\n",
    "    lines=file_object.readlines()\n",
    "for line in lines:\n",
    "    line"
   ]
  },
  {
   "cell_type": "code",
   "execution_count": 99,
   "metadata": {},
   "outputs": [
    {
     "name": "stdout",
     "output_type": "stream",
     "text": [
      "in C you can read easily.\n",
      "\n",
      "in C you can feel simple.\n",
      "\n",
      "in C you can do anything.\n",
      "in C you can read easily.\n",
      "\n",
      "in C you can feel simple.\n",
      "\n",
      "in C you can do anything.\n"
     ]
    }
   ],
   "source": [
    "#10-2\n",
    "filename='12\\\\13.txt'\n",
    "with open(filename) as file_object:\n",
    "    lines=file_object.readlines()\n",
    "i=0\n",
    "while i<len(lines):\n",
    "    print( lines[i].replace('python','C'))\n",
    "    #print(lines[i])\n",
    "    i+=1\n",
    "for line in lines:\n",
    "     print( line.replace('python','C'))\n",
    "\n"
   ]
  },
  {
   "cell_type": "code",
   "execution_count": 102,
   "metadata": {},
   "outputs": [],
   "source": [
    "filename='12\\\\13.txt'\n",
    "with open(filename,'w') as file_object:\n",
    "    file_object.write(\"i love it\\n\")\n",
    "    file_object.write('i love you')\n",
    "    #只写入字符串 ‘w’,'r+','r','a', w时自动清除已有内容写入新内容"
   ]
  },
  {
   "cell_type": "code",
   "execution_count": 105,
   "metadata": {},
   "outputs": [],
   "source": [
    "filename='12\\\\13.txt'\n",
    "with open(filename,'a') as file_object:\n",
    "    file_object.write(\"i love it\\n\")\n",
    "    file_object.write('i love you\\n')"
   ]
  },
  {
   "cell_type": "code",
   "execution_count": 107,
   "metadata": {},
   "outputs": [
    {
     "name": "stdout",
     "output_type": "stream",
     "text": [
      "12\n"
     ]
    }
   ],
   "source": [
    "#10-3\n",
    "file_name='12\\\\guest.txt'\n",
    "name=input()\n",
    "if name:\n",
    "    with open(file_name,'a') as file_object:\n",
    "        file_object.write(name)"
   ]
  },
  {
   "cell_type": "code",
   "execution_count": 111,
   "metadata": {},
   "outputs": [
    {
     "name": "stdout",
     "output_type": "stream",
     "text": [
      "enter your name: sad\n",
      "hello\n"
     ]
    }
   ],
   "source": [
    "#10-4\n",
    "while True:\n",
    "    name=input(\"enter your name: \")\n",
    "    if name:\n",
    "        print(\"hello\")\n",
    "        with open(file_name,'a') as file_object:\n",
    "            file_object.write(\"\\n\"+name)\n",
    "    break"
   ]
  },
  {
   "cell_type": "code",
   "execution_count": 113,
   "metadata": {},
   "outputs": [
    {
     "name": "stdout",
     "output_type": "stream",
     "text": [
      "enter your reason: m\n",
      "hello\n"
     ]
    }
   ],
   "source": [
    "#10-5\n",
    "file_name='12\\\\reason.txt'\n",
    "while True:\n",
    "    reason=input(\"enter your reason: \")\n",
    "    if reason:\n",
    "        print(\"hello\")\n",
    "        with open(file_name,'a') as file_object:\n",
    "            file_object.write(\"\\n\"+reason)\n",
    "    break"
   ]
  },
  {
   "cell_type": "code",
   "execution_count": 114,
   "metadata": {},
   "outputs": [
    {
     "ename": "ZeroDivisionError",
     "evalue": "division by zero",
     "output_type": "error",
     "traceback": [
      "\u001b[1;31m---------------------------------------------------------------------------\u001b[0m",
      "\u001b[1;31mZeroDivisionError\u001b[0m                         Traceback (most recent call last)",
      "\u001b[1;32m<ipython-input-114-0945dada3ffc>\u001b[0m in \u001b[0;36m<module>\u001b[1;34m()\u001b[0m\n\u001b[0;32m      1\u001b[0m \u001b[1;31m#traceback\u001b[0m\u001b[1;33m\u001b[0m\u001b[1;33m\u001b[0m\u001b[0m\n\u001b[1;32m----> 2\u001b[1;33m \u001b[0mprint\u001b[0m\u001b[1;33m(\u001b[0m\u001b[1;36m5\u001b[0m\u001b[1;33m/\u001b[0m\u001b[1;36m0\u001b[0m\u001b[1;33m)\u001b[0m\u001b[1;33m\u001b[0m\u001b[0m\n\u001b[0m",
      "\u001b[1;31mZeroDivisionError\u001b[0m: division by zero"
     ]
    }
   ],
   "source": [
    "#traceback\n",
    "print(5/0)"
   ]
  },
  {
   "cell_type": "code",
   "execution_count": 115,
   "metadata": {},
   "outputs": [
    {
     "name": "stdout",
     "output_type": "stream",
     "text": [
      "you can't divide by zero\n"
     ]
    }
   ],
   "source": [
    "try:\n",
    "    print(5/0)\n",
    "except ZeroDivisionError:\n",
    "    print(\"you can't divide by zero\")"
   ]
  },
  {
   "cell_type": "code",
   "execution_count": 118,
   "metadata": {},
   "outputs": [
    {
     "name": "stdout",
     "output_type": "stream",
     "text": [
      "give number:\n",
      "enter 'q' to quit\n",
      "\n",
      "First number: 10\n",
      "\n",
      "Second number: 0\n",
      "can not\n",
      "\n",
      "First number: 10\n",
      "\n",
      "Second number: 5\n",
      "2.0\n",
      "\n",
      "First number: q\n"
     ]
    }
   ],
   "source": [
    "print(\"give number:\")\n",
    "print(\"enter 'q' to quit\")\n",
    "while True:\n",
    "    fn=input(\"\\nFirst number: \")\n",
    "    if fn=='q':\n",
    "        break\n",
    "    sn=input(\"\\nSecond number: \")\n",
    "    if sn=='q':\n",
    "        break\n",
    "    try:\n",
    "        answer=int(fn)/int(sn)\n",
    "    except ZeroDivisionError :\n",
    "        print(\"can not\")\n",
    "    else:\n",
    "        print(answer)"
   ]
  },
  {
   "cell_type": "code",
   "execution_count": 119,
   "metadata": {},
   "outputs": [
    {
     "ename": "FileNotFoundError",
     "evalue": "[Errno 2] No such file or directory: '13.txt'",
     "output_type": "error",
     "traceback": [
      "\u001b[1;31m---------------------------------------------------------------------------\u001b[0m",
      "\u001b[1;31mFileNotFoundError\u001b[0m                         Traceback (most recent call last)",
      "\u001b[1;32m<ipython-input-119-3602b7ecdd15>\u001b[0m in \u001b[0;36m<module>\u001b[1;34m()\u001b[0m\n\u001b[0;32m      1\u001b[0m \u001b[0mfile_name\u001b[0m\u001b[1;33m=\u001b[0m\u001b[1;34m'13.txt'\u001b[0m\u001b[1;33m\u001b[0m\u001b[0m\n\u001b[1;32m----> 2\u001b[1;33m \u001b[1;32mwith\u001b[0m \u001b[0mopen\u001b[0m\u001b[1;33m(\u001b[0m\u001b[0mfile_name\u001b[0m\u001b[1;33m)\u001b[0m \u001b[1;32mas\u001b[0m \u001b[0mfile_object\u001b[0m\u001b[1;33m:\u001b[0m\u001b[1;33m\u001b[0m\u001b[0m\n\u001b[0m\u001b[0;32m      3\u001b[0m     \u001b[0mcontents\u001b[0m\u001b[1;33m=\u001b[0m\u001b[0mfile_object\u001b[0m\u001b[1;33m.\u001b[0m\u001b[0mread\u001b[0m\u001b[1;33m(\u001b[0m\u001b[1;33m)\u001b[0m\u001b[1;33m\u001b[0m\u001b[0m\n",
      "\u001b[1;31mFileNotFoundError\u001b[0m: [Errno 2] No such file or directory: '13.txt'"
     ]
    }
   ],
   "source": [
    "file_name='13.txt'\n",
    "with open(file_name) as file_object:\n",
    "    contents=file_object.read()"
   ]
  },
  {
   "cell_type": "code",
   "execution_count": 121,
   "metadata": {},
   "outputs": [
    {
     "name": "stdout",
     "output_type": "stream",
     "text": [
      "yes\n"
     ]
    }
   ],
   "source": [
    "file_name='12.txt'\n",
    "try:\n",
    "    with open(file_name) as file_object:\n",
    "        contents=file_object.read()\n",
    "except FileNotFoundError :\n",
    "    msg='such file can not find'\n",
    "    print(msg)\n",
    "else:\n",
    "    print(\"yes\")"
   ]
  },
  {
   "cell_type": "code",
   "execution_count": 123,
   "metadata": {},
   "outputs": [
    {
     "data": {
      "text/plain": [
       "5"
      ]
     },
     "execution_count": 123,
     "metadata": {},
     "output_type": "execute_result"
    }
   ],
   "source": [
    "title=\"i am a great person\"\n",
    "word=title.split()\n",
    "len(word)"
   ]
  },
  {
   "cell_type": "code",
   "execution_count": 130,
   "metadata": {},
   "outputs": [
    {
     "name": "stdout",
     "output_type": "stream",
     "text": [
      "3\n"
     ]
    }
   ],
   "source": [
    "def count_word(filename):\n",
    "    #file_name='12.txt'\n",
    "    try:\n",
    "        with open(file_name) as file_object:\n",
    "            contents=file_object.read()\n",
    "    except FileNotFoundError :\n",
    "        msg='such file can not find'\n",
    "        print(msg)\n",
    "    else:\n",
    "        words=contents.split()\n",
    "        print(len(words))\n",
    "filename='1212.txt'\n",
    "count_word(filename)\n"
   ]
  },
  {
   "cell_type": "code",
   "execution_count": 133,
   "metadata": {},
   "outputs": [
    {
     "name": "stdout",
     "output_type": "stream",
     "text": [
      "3\n"
     ]
    }
   ],
   "source": [
    "def count_word(filename):\n",
    "    try:\n",
    "        with open(filename) as file_object:\n",
    "            contents=file_object.read()\n",
    "    except FileNotFoundError :\n",
    "        msg='such file can not find'\n",
    "        print(msg)\n",
    "    else:\n",
    "        words=contents.split()\n",
    "        print(len(words))\n",
    "filename='12.txt'\n",
    "count_word(filename)"
   ]
  },
  {
   "cell_type": "code",
   "execution_count": 135,
   "metadata": {},
   "outputs": [],
   "source": [
    "#yishengbukeng\n",
    "def count_word(filename):\n",
    "    try:\n",
    "        with open(filename) as file_object:\n",
    "            contents=file_object.read()\n",
    "    except FileNotFoundError :\n",
    "       # msg='such file can not find'\n",
    "       # print(msg)\n",
    "        pass\n",
    "    else:\n",
    "        words=contents.split()\n",
    "        print(len(words))\n",
    "filename='13.txt'\n",
    "count_word(filename)"
   ]
  },
  {
   "cell_type": "code",
   "execution_count": 138,
   "metadata": {},
   "outputs": [
    {
     "name": "stdout",
     "output_type": "stream",
     "text": [
      "please enter a first numberr\n",
      "please enter a second number12\n",
      "error\n"
     ]
    }
   ],
   "source": [
    "#10-6\n",
    "try:\n",
    "    number1=input(\"please enter a first number\")\n",
    "    number2=input(\"please enter a second number\")\n",
    "    number=int(number1)+int(number2)\n",
    "except ValueError:\n",
    "    print(\"error\")\n",
    "else:\n",
    "    print(number)"
   ]
  },
  {
   "cell_type": "code",
   "execution_count": 1,
   "metadata": {},
   "outputs": [
    {
     "name": "stdout",
     "output_type": "stream",
     "text": [
      "please enter a first number12\n",
      "please enter a second number23\n",
      "35\n"
     ]
    }
   ],
   "source": [
    "#10-7\n",
    "while True:\n",
    "    try:\n",
    "        number1=input(\"please enter a first number\")\n",
    "        number2=input(\"please enter a second number\")\n",
    "        number=int(number1)+int(number2)\n",
    "    except ValueError:\n",
    "        print(\"error\")\n",
    "    else:\n",
    "        print(number) \n",
    "    break"
   ]
  },
  {
   "cell_type": "code",
   "execution_count": 5,
   "metadata": {},
   "outputs": [
    {
     "name": "stdout",
     "output_type": "stream",
     "text": [
      "4\n",
      "5\n",
      "6\n"
     ]
    }
   ],
   "source": [
    "filenames=['12\\\\cat','12\\\\dog.txt']\n",
    "for filename in filenames:\n",
    "    try:\n",
    "        with open(filename) as file_object:\n",
    "            contents=file_object.read()\n",
    "            #print(contents)\n",
    "    except FileNotFoundError:\n",
    "        #print(\"error\")\n",
    "        pass\n",
    "    else:\n",
    "        print(contents)\n",
    "\n",
    "        \n",
    "            "
   ]
  },
  {
   "cell_type": "code",
   "execution_count": 13,
   "metadata": {},
   "outputs": [],
   "source": [
    "#json store data dump()\n",
    "import json\n",
    "numbers=[2,3,4,5,7,11]\n",
    "filename='number.json'\n",
    "with open(filename,'w')as f_obj:\n",
    "    json.dump(numbers,f_obj)\n"
   ]
  },
  {
   "cell_type": "code",
   "execution_count": 14,
   "metadata": {},
   "outputs": [
    {
     "name": "stdout",
     "output_type": "stream",
     "text": [
      "[2, 3, 4, 5, 7, 11]\n"
     ]
    }
   ],
   "source": [
    "#load()\n",
    "import json\n",
    "#numbers=[2,3,4,5,7,11]\n",
    "filename='number.json'\n",
    "with open(filename,'r')as f_obj:\n",
    "    number=json.load(f_obj)\n",
    "\n",
    "print(number)"
   ]
  },
  {
   "cell_type": "code",
   "execution_count": 17,
   "metadata": {},
   "outputs": [
    {
     "name": "stdout",
     "output_type": "stream",
     "text": [
      "what is your name sad\n",
      "remeber sad.\n"
     ]
    }
   ],
   "source": [
    "#rember_me\n",
    "import json\n",
    "username=input(\"what is your name \")\n",
    "filename='username.json'\n",
    "with open(filename,'w') as f_obj:\n",
    "    json.dump(username,f_obj)\n",
    "    print(\"remeber \"+username+\".\")\n",
    "\n",
    "    "
   ]
  },
  {
   "cell_type": "code",
   "execution_count": 19,
   "metadata": {},
   "outputs": [
    {
     "name": "stdout",
     "output_type": "stream",
     "text": [
      "sad\n"
     ]
    }
   ],
   "source": [
    "#greet\n",
    "with open(filename) as f_obj:\n",
    "    username1=json.load(f_obj)\n",
    "    print(username1)\n"
   ]
  },
  {
   "cell_type": "code",
   "execution_count": 22,
   "metadata": {},
   "outputs": [
    {
     "name": "stdout",
     "output_type": "stream",
     "text": [
      "12\n"
     ]
    }
   ],
   "source": [
    "import json\n",
    "filename='username1.json'\n",
    "try:\n",
    "    with open(filename) as f_obj:\n",
    "        username=json.load(f_obj)\n",
    "except FileNotFoundError:\n",
    "    username=input(\"enter \")\n",
    "    with open(filename,'w') as f_obj:\n",
    "        json.dump(username,f_obj)\n",
    "        print(\"success\")\n",
    "else:\n",
    "    print(username)"
   ]
  },
  {
   "cell_type": "code",
   "execution_count": 23,
   "metadata": {},
   "outputs": [
    {
     "name": "stdout",
     "output_type": "stream",
     "text": [
      "12\n"
     ]
    }
   ],
   "source": [
    "#me\n",
    "import json\n",
    "def greet_user():\n",
    "    filename='username1.json'\n",
    "    try:\n",
    "        with open(filename) as f_obj:\n",
    "            username=json.load(f_obj)\n",
    "    except FileNotFoundError:\n",
    "        username=input(\"enter \")\n",
    "        with open(filename,'w') as f_obj:\n",
    "            json.dump(username,f_obj)\n",
    "            print(\"success\")\n",
    "    else:\n",
    "        print(username)\n",
    "greet_user()"
   ]
  },
  {
   "cell_type": "code",
   "execution_count": 28,
   "metadata": {},
   "outputs": [
    {
     "name": "stdout",
     "output_type": "stream",
     "text": [
      "what is your namedsa\n",
      "success\n"
     ]
    }
   ],
   "source": [
    "#divides\n",
    "def get_stored():\n",
    "    filename='username2.json'\n",
    "    try:\n",
    "        with open(filename)as f_obj:\n",
    "            username=json.load(f_obj)\n",
    "    except FileNotFoundError:\n",
    "        return None\n",
    "    else:\n",
    "        return username\n",
    "def get_new():\n",
    "    username=input(\"what is your name\")\n",
    "    filename='username.json'\n",
    "    with open(filename,'w') as f_obj:\n",
    "        json.dump(username,f_obj)\n",
    "    return username\n",
    "def greet_user():\n",
    "    username=get_stored()\n",
    "    if username:\n",
    "        print(\"hello \"+username)\n",
    "    else:\n",
    "        username=get_new()\n",
    "        print(\"success\")\n",
    "greet_user()"
   ]
  },
  {
   "cell_type": "code",
   "execution_count": 30,
   "metadata": {},
   "outputs": [
    {
     "name": "stdout",
     "output_type": "stream",
     "text": [
      "enter your favorite shuzi 12\n",
      "12\n"
     ]
    }
   ],
   "source": [
    "#10-11\n",
    "num=input(\"enter your favorite shuzi \")\n",
    "filename='fs.txt'\n",
    "with open(filename,'w')as f_obj:\n",
    "    json.dump(num,f_obj)\n",
    "with open(filename) as f_obj:\n",
    "    nums=json.load(f_obj)\n",
    "    print(nums)\n",
    "    "
   ]
  },
  {
   "cell_type": "code",
   "execution_count": 34,
   "metadata": {},
   "outputs": [
    {
     "name": "stdout",
     "output_type": "stream",
     "text": [
      "enter your number: 12\n",
      "success\n"
     ]
    }
   ],
   "source": [
    "#10-12\n",
    "def show():\n",
    "    filename='fl.json'\n",
    "    try:\n",
    "        with open(filename)as f_obj:\n",
    "            names=json.load(f_obj)\n",
    "    except FileNotFoundError:\n",
    "        nums=input(\"enter your number: \")\n",
    "        with open(filename,'w')as f_obj:\n",
    "            json.dump(nums,f_obj)\n",
    "        print(\"success\")\n",
    "    else:\n",
    "        print(\"hello\")\n",
    "show()        "
   ]
  },
  {
   "cell_type": "code",
   "execution_count": null,
   "metadata": {},
   "outputs": [],
   "source": [
    "def get_name(first,last):\n",
    "    full_name=first+' '+last\n",
    "    return full_name.title()\n"
   ]
  },
  {
   "cell_type": "code",
   "execution_count": 37,
   "metadata": {},
   "outputs": [
    {
     "name": "stderr",
     "output_type": "stream",
     "text": [
      "E\n",
      "======================================================================\n",
      "ERROR: C:\\Users\\外星人\\AppData\\Roaming\\jupyter\\runtime\\kernel-6dd2d289-1822-41a9-a9ec-185ef6ece47e (unittest.loader._FailedTest)\n",
      "----------------------------------------------------------------------\n",
      "AttributeError: module '__main__' has no attribute 'C:\\Users\\外星人\\AppData\\Roaming\\jupyter\\runtime\\kernel-6dd2d289-1822-41a9-a9ec-185ef6ece47e'\n",
      "\n",
      "----------------------------------------------------------------------\n",
      "Ran 1 test in 0.002s\n",
      "\n",
      "FAILED (errors=1)\n"
     ]
    },
    {
     "ename": "SystemExit",
     "evalue": "True",
     "output_type": "error",
     "traceback": [
      "An exception has occurred, use %tb to see the full traceback.\n",
      "\u001b[1;31mSystemExit\u001b[0m\u001b[1;31m:\u001b[0m True\n"
     ]
    },
    {
     "name": "stderr",
     "output_type": "stream",
     "text": [
      "D:\\python\\Anaconda\\lib\\site-packages\\IPython\\core\\interactiveshell.py:2969: UserWarning: To exit: use 'exit', 'quit', or Ctrl-D.\n",
      "  warn(\"To exit: use 'exit', 'quit', or Ctrl-D.\", stacklevel=1)\n"
     ]
    }
   ],
   "source": [
    "#test--TRY REMBER YOUHAVE ERROR\n",
    "import unittest\n",
    "#from ... import ...\n",
    "class NameTestCase(unittest.TestCase):\n",
    "    def test_first_last_name(self):\n",
    "        formatted_name=get_name('janis','joplin')\n",
    "        self.assertEqual(formatted_name,'Janis Joplin')\n",
    "unittest.main()\n"
   ]
  },
  {
   "cell_type": "code",
   "execution_count": null,
   "metadata": {},
   "outputs": [],
   "source": [
    "#项目-219\n"
   ]
  }
 ],
 "metadata": {
  "kernelspec": {
   "display_name": "Python 3",
   "language": "python",
   "name": "python3"
  },
  "language_info": {
   "codemirror_mode": {
    "name": "ipython",
    "version": 3
   },
   "file_extension": ".py",
   "mimetype": "text/x-python",
   "name": "python",
   "nbconvert_exporter": "python",
   "pygments_lexer": "ipython3",
   "version": "3.7.0"
  }
 },
 "nbformat": 4,
 "nbformat_minor": 2
}
